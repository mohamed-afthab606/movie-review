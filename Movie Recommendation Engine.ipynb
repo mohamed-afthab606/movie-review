{
 "cells": [
  {
   "cell_type": "markdown",
   "id": "d914217c",
   "metadata": {},
   "source": [
    "# Importing Basic Libraries"
   ]
  },
  {
   "cell_type": "code",
   "execution_count": 1,
   "id": "c3a14778",
   "metadata": {},
   "outputs": [],
   "source": [
    "\n",
    "import numpy as np\n",
    "import pandas as pd\n",
    "\n",
    "#Data Visualiztaion Libraries\n",
    "import matplotlib.pyplot as plt\n",
    "import seaborn as sns\n",
    "import plotly.express as px\n",
    "\n",
    "#jupyter notebook widgets for interactive analysis\n",
    "import ipywidgets as widgets\n",
    "from ipywidgets import interact\n",
    "from ipywidgets import interact_manual\n",
    "\n",
    "#for interactive shells\n",
    "from IPython.display import display\n",
    "\n",
    "#Supress Warnings\n",
    "import warnings\n",
    "warnings.filterwarnings('ignore')\n",
    "\n",
    "#Setting up the chart size and background\n",
    "plt.rcParams['figure.figsize'] =(16,5)\n",
    "plt.style.use('fivethirtyeight')\n",
    "\n"
   ]
  },
  {
   "cell_type": "code",
   "execution_count": 2,
   "id": "ce5f8f5a",
   "metadata": {},
   "outputs": [],
   "source": [
    "#Available styles for charts\n",
    "#plt.style.available"
   ]
  },
  {
   "cell_type": "markdown",
   "id": "02d22e5f",
   "metadata": {},
   "source": [
    "# Reading the Dataset"
   ]
  },
  {
   "cell_type": "code",
   "execution_count": 3,
   "id": "0d70f074",
   "metadata": {},
   "outputs": [],
   "source": [
    "data= pd.read_csv(\"./movie_metadata.csv\")"
   ]
  },
  {
   "cell_type": "code",
   "execution_count": 4,
   "id": "8e48fc1c",
   "metadata": {},
   "outputs": [
    {
     "data": {
      "text/plain": [
       "(5043, 28)"
      ]
     },
     "execution_count": 4,
     "metadata": {},
     "output_type": "execute_result"
    }
   ],
   "source": [
    "data.shape"
   ]
  },
  {
   "cell_type": "code",
   "execution_count": 5,
   "id": "88931f71",
   "metadata": {
    "scrolled": true
   },
   "outputs": [
    {
     "name": "stdout",
     "output_type": "stream",
     "text": [
      "<class 'pandas.core.frame.DataFrame'>\n",
      "RangeIndex: 5043 entries, 0 to 5042\n",
      "Data columns (total 28 columns):\n",
      " #   Column                     Non-Null Count  Dtype  \n",
      "---  ------                     --------------  -----  \n",
      " 0   color                      5024 non-null   object \n",
      " 1   director_name              4939 non-null   object \n",
      " 2   num_critic_for_reviews     4993 non-null   float64\n",
      " 3   duration                   5028 non-null   float64\n",
      " 4   director_facebook_likes    4939 non-null   float64\n",
      " 5   actor_3_facebook_likes     5020 non-null   float64\n",
      " 6   actor_2_name               5030 non-null   object \n",
      " 7   actor_1_facebook_likes     5036 non-null   float64\n",
      " 8   gross                      4159 non-null   float64\n",
      " 9   genres                     5043 non-null   object \n",
      " 10  actor_1_name               5036 non-null   object \n",
      " 11  movie_title                5043 non-null   object \n",
      " 12  num_voted_users            5043 non-null   int64  \n",
      " 13  cast_total_facebook_likes  5043 non-null   int64  \n",
      " 14  actor_3_name               5020 non-null   object \n",
      " 15  facenumber_in_poster       5030 non-null   float64\n",
      " 16  plot_keywords              4890 non-null   object \n",
      " 17  movie_imdb_link            5043 non-null   object \n",
      " 18  num_user_for_reviews       5022 non-null   float64\n",
      " 19  language                   5031 non-null   object \n",
      " 20  country                    5038 non-null   object \n",
      " 21  content_rating             4740 non-null   object \n",
      " 22  budget                     4551 non-null   float64\n",
      " 23  title_year                 4935 non-null   float64\n",
      " 24  actor_2_facebook_likes     5030 non-null   float64\n",
      " 25  imdb_score                 5043 non-null   float64\n",
      " 26  aspect_ratio               4714 non-null   float64\n",
      " 27  movie_facebook_likes       5043 non-null   int64  \n",
      "dtypes: float64(13), int64(3), object(12)\n",
      "memory usage: 1.1+ MB\n"
     ]
    }
   ],
   "source": [
    "data.info()"
   ]
  },
  {
   "cell_type": "code",
   "execution_count": 6,
   "id": "f3ef06b8",
   "metadata": {},
   "outputs": [
    {
     "data": {
      "text/html": [
       "<div>\n",
       "<style scoped>\n",
       "    .dataframe tbody tr th:only-of-type {\n",
       "        vertical-align: middle;\n",
       "    }\n",
       "\n",
       "    .dataframe tbody tr th {\n",
       "        vertical-align: top;\n",
       "    }\n",
       "\n",
       "    .dataframe thead th {\n",
       "        text-align: right;\n",
       "    }\n",
       "</style>\n",
       "<table border=\"1\" class=\"dataframe\">\n",
       "  <thead>\n",
       "    <tr style=\"text-align: right;\">\n",
       "      <th></th>\n",
       "      <th>color</th>\n",
       "      <th>director_name</th>\n",
       "      <th>num_critic_for_reviews</th>\n",
       "      <th>duration</th>\n",
       "      <th>director_facebook_likes</th>\n",
       "      <th>actor_3_facebook_likes</th>\n",
       "      <th>actor_2_name</th>\n",
       "      <th>actor_1_facebook_likes</th>\n",
       "      <th>gross</th>\n",
       "      <th>genres</th>\n",
       "      <th>...</th>\n",
       "      <th>num_user_for_reviews</th>\n",
       "      <th>language</th>\n",
       "      <th>country</th>\n",
       "      <th>content_rating</th>\n",
       "      <th>budget</th>\n",
       "      <th>title_year</th>\n",
       "      <th>actor_2_facebook_likes</th>\n",
       "      <th>imdb_score</th>\n",
       "      <th>aspect_ratio</th>\n",
       "      <th>movie_facebook_likes</th>\n",
       "    </tr>\n",
       "  </thead>\n",
       "  <tbody>\n",
       "    <tr>\n",
       "      <th>0</th>\n",
       "      <td>Color</td>\n",
       "      <td>James Cameron</td>\n",
       "      <td>723.0</td>\n",
       "      <td>178.0</td>\n",
       "      <td>0.0</td>\n",
       "      <td>855.0</td>\n",
       "      <td>Joel David Moore</td>\n",
       "      <td>1000.0</td>\n",
       "      <td>760505847.0</td>\n",
       "      <td>Action|Adventure|Fantasy|Sci-Fi</td>\n",
       "      <td>...</td>\n",
       "      <td>3054.0</td>\n",
       "      <td>English</td>\n",
       "      <td>USA</td>\n",
       "      <td>PG-13</td>\n",
       "      <td>237000000.0</td>\n",
       "      <td>2009.0</td>\n",
       "      <td>936.0</td>\n",
       "      <td>7.9</td>\n",
       "      <td>1.78</td>\n",
       "      <td>33000</td>\n",
       "    </tr>\n",
       "    <tr>\n",
       "      <th>1</th>\n",
       "      <td>Color</td>\n",
       "      <td>Gore Verbinski</td>\n",
       "      <td>302.0</td>\n",
       "      <td>169.0</td>\n",
       "      <td>563.0</td>\n",
       "      <td>1000.0</td>\n",
       "      <td>Orlando Bloom</td>\n",
       "      <td>40000.0</td>\n",
       "      <td>309404152.0</td>\n",
       "      <td>Action|Adventure|Fantasy</td>\n",
       "      <td>...</td>\n",
       "      <td>1238.0</td>\n",
       "      <td>English</td>\n",
       "      <td>USA</td>\n",
       "      <td>PG-13</td>\n",
       "      <td>300000000.0</td>\n",
       "      <td>2007.0</td>\n",
       "      <td>5000.0</td>\n",
       "      <td>7.1</td>\n",
       "      <td>2.35</td>\n",
       "      <td>0</td>\n",
       "    </tr>\n",
       "    <tr>\n",
       "      <th>2</th>\n",
       "      <td>Color</td>\n",
       "      <td>Sam Mendes</td>\n",
       "      <td>602.0</td>\n",
       "      <td>148.0</td>\n",
       "      <td>0.0</td>\n",
       "      <td>161.0</td>\n",
       "      <td>Rory Kinnear</td>\n",
       "      <td>11000.0</td>\n",
       "      <td>200074175.0</td>\n",
       "      <td>Action|Adventure|Thriller</td>\n",
       "      <td>...</td>\n",
       "      <td>994.0</td>\n",
       "      <td>English</td>\n",
       "      <td>UK</td>\n",
       "      <td>PG-13</td>\n",
       "      <td>245000000.0</td>\n",
       "      <td>2015.0</td>\n",
       "      <td>393.0</td>\n",
       "      <td>6.8</td>\n",
       "      <td>2.35</td>\n",
       "      <td>85000</td>\n",
       "    </tr>\n",
       "    <tr>\n",
       "      <th>3</th>\n",
       "      <td>Color</td>\n",
       "      <td>Christopher Nolan</td>\n",
       "      <td>813.0</td>\n",
       "      <td>164.0</td>\n",
       "      <td>22000.0</td>\n",
       "      <td>23000.0</td>\n",
       "      <td>Christian Bale</td>\n",
       "      <td>27000.0</td>\n",
       "      <td>448130642.0</td>\n",
       "      <td>Action|Thriller</td>\n",
       "      <td>...</td>\n",
       "      <td>2701.0</td>\n",
       "      <td>English</td>\n",
       "      <td>USA</td>\n",
       "      <td>PG-13</td>\n",
       "      <td>250000000.0</td>\n",
       "      <td>2012.0</td>\n",
       "      <td>23000.0</td>\n",
       "      <td>8.5</td>\n",
       "      <td>2.35</td>\n",
       "      <td>164000</td>\n",
       "    </tr>\n",
       "    <tr>\n",
       "      <th>4</th>\n",
       "      <td>NaN</td>\n",
       "      <td>Doug Walker</td>\n",
       "      <td>NaN</td>\n",
       "      <td>NaN</td>\n",
       "      <td>131.0</td>\n",
       "      <td>NaN</td>\n",
       "      <td>Rob Walker</td>\n",
       "      <td>131.0</td>\n",
       "      <td>NaN</td>\n",
       "      <td>Documentary</td>\n",
       "      <td>...</td>\n",
       "      <td>NaN</td>\n",
       "      <td>NaN</td>\n",
       "      <td>NaN</td>\n",
       "      <td>NaN</td>\n",
       "      <td>NaN</td>\n",
       "      <td>NaN</td>\n",
       "      <td>12.0</td>\n",
       "      <td>7.1</td>\n",
       "      <td>NaN</td>\n",
       "      <td>0</td>\n",
       "    </tr>\n",
       "  </tbody>\n",
       "</table>\n",
       "<p>5 rows × 28 columns</p>\n",
       "</div>"
      ],
      "text/plain": [
       "   color      director_name  num_critic_for_reviews  duration  \\\n",
       "0  Color      James Cameron                   723.0     178.0   \n",
       "1  Color     Gore Verbinski                   302.0     169.0   \n",
       "2  Color         Sam Mendes                   602.0     148.0   \n",
       "3  Color  Christopher Nolan                   813.0     164.0   \n",
       "4    NaN        Doug Walker                     NaN       NaN   \n",
       "\n",
       "   director_facebook_likes  actor_3_facebook_likes      actor_2_name  \\\n",
       "0                      0.0                   855.0  Joel David Moore   \n",
       "1                    563.0                  1000.0     Orlando Bloom   \n",
       "2                      0.0                   161.0      Rory Kinnear   \n",
       "3                  22000.0                 23000.0    Christian Bale   \n",
       "4                    131.0                     NaN        Rob Walker   \n",
       "\n",
       "   actor_1_facebook_likes        gross                           genres  ...  \\\n",
       "0                  1000.0  760505847.0  Action|Adventure|Fantasy|Sci-Fi  ...   \n",
       "1                 40000.0  309404152.0         Action|Adventure|Fantasy  ...   \n",
       "2                 11000.0  200074175.0        Action|Adventure|Thriller  ...   \n",
       "3                 27000.0  448130642.0                  Action|Thriller  ...   \n",
       "4                   131.0          NaN                      Documentary  ...   \n",
       "\n",
       "  num_user_for_reviews language  country  content_rating       budget  \\\n",
       "0               3054.0  English      USA           PG-13  237000000.0   \n",
       "1               1238.0  English      USA           PG-13  300000000.0   \n",
       "2                994.0  English       UK           PG-13  245000000.0   \n",
       "3               2701.0  English      USA           PG-13  250000000.0   \n",
       "4                  NaN      NaN      NaN             NaN          NaN   \n",
       "\n",
       "   title_year actor_2_facebook_likes imdb_score  aspect_ratio  \\\n",
       "0      2009.0                  936.0        7.9          1.78   \n",
       "1      2007.0                 5000.0        7.1          2.35   \n",
       "2      2015.0                  393.0        6.8          2.35   \n",
       "3      2012.0                23000.0        8.5          2.35   \n",
       "4         NaN                   12.0        7.1           NaN   \n",
       "\n",
       "  movie_facebook_likes  \n",
       "0                33000  \n",
       "1                    0  \n",
       "2                85000  \n",
       "3               164000  \n",
       "4                    0  \n",
       "\n",
       "[5 rows x 28 columns]"
      ]
     },
     "execution_count": 6,
     "metadata": {},
     "output_type": "execute_result"
    }
   ],
   "source": [
    "pd.reset_option('max_columns')\n",
    "data.head()"
   ]
  },
  {
   "cell_type": "code",
   "execution_count": 7,
   "id": "fdca6dd0",
   "metadata": {},
   "outputs": [],
   "source": [
    "data=data.drop(['color',\n",
    "                'director_facebook_likes',\n",
    "                'actor_3_facebook_likes',\n",
    "                'actor_1_facebook_likes',\n",
    "                'cast_total_facebook_likes',\n",
    "                'facenumber_in_poster',\n",
    "                'actor_2_facebook_likes',\n",
    "                'aspect_ratio',\n",
    "                'plot_keywords',\n",
    "                'content_rating',\n",
    "                'country',\n",
    "                'movie_imdb_link',\n",
    "               ], axis=1)\n"
   ]
  },
  {
   "cell_type": "code",
   "execution_count": 8,
   "id": "f67e9545",
   "metadata": {},
   "outputs": [
    {
     "data": {
      "text/html": [
       "<div>\n",
       "<style scoped>\n",
       "    .dataframe tbody tr th:only-of-type {\n",
       "        vertical-align: middle;\n",
       "    }\n",
       "\n",
       "    .dataframe tbody tr th {\n",
       "        vertical-align: top;\n",
       "    }\n",
       "\n",
       "    .dataframe thead th {\n",
       "        text-align: right;\n",
       "    }\n",
       "</style>\n",
       "<table border=\"1\" class=\"dataframe\">\n",
       "  <thead>\n",
       "    <tr style=\"text-align: right;\">\n",
       "      <th></th>\n",
       "      <th>director_name</th>\n",
       "      <th>num_critic_for_reviews</th>\n",
       "      <th>duration</th>\n",
       "      <th>actor_2_name</th>\n",
       "      <th>gross</th>\n",
       "      <th>genres</th>\n",
       "      <th>actor_1_name</th>\n",
       "      <th>movie_title</th>\n",
       "      <th>num_voted_users</th>\n",
       "      <th>actor_3_name</th>\n",
       "      <th>num_user_for_reviews</th>\n",
       "      <th>language</th>\n",
       "      <th>budget</th>\n",
       "      <th>title_year</th>\n",
       "      <th>imdb_score</th>\n",
       "      <th>movie_facebook_likes</th>\n",
       "    </tr>\n",
       "  </thead>\n",
       "  <tbody>\n",
       "    <tr>\n",
       "      <th>0</th>\n",
       "      <td>James Cameron</td>\n",
       "      <td>723.0</td>\n",
       "      <td>178.0</td>\n",
       "      <td>Joel David Moore</td>\n",
       "      <td>760505847.0</td>\n",
       "      <td>Action|Adventure|Fantasy|Sci-Fi</td>\n",
       "      <td>CCH Pounder</td>\n",
       "      <td>Avatar</td>\n",
       "      <td>886204</td>\n",
       "      <td>Wes Studi</td>\n",
       "      <td>3054.0</td>\n",
       "      <td>English</td>\n",
       "      <td>237000000.0</td>\n",
       "      <td>2009.0</td>\n",
       "      <td>7.9</td>\n",
       "      <td>33000</td>\n",
       "    </tr>\n",
       "    <tr>\n",
       "      <th>1</th>\n",
       "      <td>Gore Verbinski</td>\n",
       "      <td>302.0</td>\n",
       "      <td>169.0</td>\n",
       "      <td>Orlando Bloom</td>\n",
       "      <td>309404152.0</td>\n",
       "      <td>Action|Adventure|Fantasy</td>\n",
       "      <td>Johnny Depp</td>\n",
       "      <td>Pirates of the Caribbean: At World's End</td>\n",
       "      <td>471220</td>\n",
       "      <td>Jack Davenport</td>\n",
       "      <td>1238.0</td>\n",
       "      <td>English</td>\n",
       "      <td>300000000.0</td>\n",
       "      <td>2007.0</td>\n",
       "      <td>7.1</td>\n",
       "      <td>0</td>\n",
       "    </tr>\n",
       "    <tr>\n",
       "      <th>2</th>\n",
       "      <td>Sam Mendes</td>\n",
       "      <td>602.0</td>\n",
       "      <td>148.0</td>\n",
       "      <td>Rory Kinnear</td>\n",
       "      <td>200074175.0</td>\n",
       "      <td>Action|Adventure|Thriller</td>\n",
       "      <td>Christoph Waltz</td>\n",
       "      <td>Spectre</td>\n",
       "      <td>275868</td>\n",
       "      <td>Stephanie Sigman</td>\n",
       "      <td>994.0</td>\n",
       "      <td>English</td>\n",
       "      <td>245000000.0</td>\n",
       "      <td>2015.0</td>\n",
       "      <td>6.8</td>\n",
       "      <td>85000</td>\n",
       "    </tr>\n",
       "    <tr>\n",
       "      <th>3</th>\n",
       "      <td>Christopher Nolan</td>\n",
       "      <td>813.0</td>\n",
       "      <td>164.0</td>\n",
       "      <td>Christian Bale</td>\n",
       "      <td>448130642.0</td>\n",
       "      <td>Action|Thriller</td>\n",
       "      <td>Tom Hardy</td>\n",
       "      <td>The Dark Knight Rises</td>\n",
       "      <td>1144337</td>\n",
       "      <td>Joseph Gordon-Levitt</td>\n",
       "      <td>2701.0</td>\n",
       "      <td>English</td>\n",
       "      <td>250000000.0</td>\n",
       "      <td>2012.0</td>\n",
       "      <td>8.5</td>\n",
       "      <td>164000</td>\n",
       "    </tr>\n",
       "    <tr>\n",
       "      <th>4</th>\n",
       "      <td>Doug Walker</td>\n",
       "      <td>NaN</td>\n",
       "      <td>NaN</td>\n",
       "      <td>Rob Walker</td>\n",
       "      <td>NaN</td>\n",
       "      <td>Documentary</td>\n",
       "      <td>Doug Walker</td>\n",
       "      <td>Star Wars: Episode VII - The Force Awakens    ...</td>\n",
       "      <td>8</td>\n",
       "      <td>NaN</td>\n",
       "      <td>NaN</td>\n",
       "      <td>NaN</td>\n",
       "      <td>NaN</td>\n",
       "      <td>NaN</td>\n",
       "      <td>7.1</td>\n",
       "      <td>0</td>\n",
       "    </tr>\n",
       "  </tbody>\n",
       "</table>\n",
       "</div>"
      ],
      "text/plain": [
       "       director_name  num_critic_for_reviews  duration      actor_2_name  \\\n",
       "0      James Cameron                   723.0     178.0  Joel David Moore   \n",
       "1     Gore Verbinski                   302.0     169.0     Orlando Bloom   \n",
       "2         Sam Mendes                   602.0     148.0      Rory Kinnear   \n",
       "3  Christopher Nolan                   813.0     164.0    Christian Bale   \n",
       "4        Doug Walker                     NaN       NaN        Rob Walker   \n",
       "\n",
       "         gross                           genres     actor_1_name  \\\n",
       "0  760505847.0  Action|Adventure|Fantasy|Sci-Fi      CCH Pounder   \n",
       "1  309404152.0         Action|Adventure|Fantasy      Johnny Depp   \n",
       "2  200074175.0        Action|Adventure|Thriller  Christoph Waltz   \n",
       "3  448130642.0                  Action|Thriller        Tom Hardy   \n",
       "4          NaN                      Documentary      Doug Walker   \n",
       "\n",
       "                                         movie_title  num_voted_users  \\\n",
       "0                                            Avatar            886204   \n",
       "1          Pirates of the Caribbean: At World's End            471220   \n",
       "2                                           Spectre            275868   \n",
       "3                             The Dark Knight Rises           1144337   \n",
       "4  Star Wars: Episode VII - The Force Awakens    ...                8   \n",
       "\n",
       "           actor_3_name  num_user_for_reviews language       budget  \\\n",
       "0             Wes Studi                3054.0  English  237000000.0   \n",
       "1        Jack Davenport                1238.0  English  300000000.0   \n",
       "2      Stephanie Sigman                 994.0  English  245000000.0   \n",
       "3  Joseph Gordon-Levitt                2701.0  English  250000000.0   \n",
       "4                   NaN                   NaN      NaN          NaN   \n",
       "\n",
       "   title_year  imdb_score  movie_facebook_likes  \n",
       "0      2009.0         7.9                 33000  \n",
       "1      2007.0         7.1                     0  \n",
       "2      2015.0         6.8                 85000  \n",
       "3      2012.0         8.5                164000  \n",
       "4         NaN         7.1                     0  "
      ]
     },
     "execution_count": 8,
     "metadata": {},
     "output_type": "execute_result"
    }
   ],
   "source": [
    "data.head()"
   ]
  },
  {
   "cell_type": "code",
   "execution_count": 9,
   "id": "4f8818ce",
   "metadata": {},
   "outputs": [
    {
     "name": "stdout",
     "output_type": "stream",
     "text": [
      "<class 'pandas.core.frame.DataFrame'>\n",
      "RangeIndex: 5043 entries, 0 to 5042\n",
      "Data columns (total 16 columns):\n",
      " #   Column                  Non-Null Count  Dtype  \n",
      "---  ------                  --------------  -----  \n",
      " 0   director_name           4939 non-null   object \n",
      " 1   num_critic_for_reviews  4993 non-null   float64\n",
      " 2   duration                5028 non-null   float64\n",
      " 3   actor_2_name            5030 non-null   object \n",
      " 4   gross                   4159 non-null   float64\n",
      " 5   genres                  5043 non-null   object \n",
      " 6   actor_1_name            5036 non-null   object \n",
      " 7   movie_title             5043 non-null   object \n",
      " 8   num_voted_users         5043 non-null   int64  \n",
      " 9   actor_3_name            5020 non-null   object \n",
      " 10  num_user_for_reviews    5022 non-null   float64\n",
      " 11  language                5031 non-null   object \n",
      " 12  budget                  4551 non-null   float64\n",
      " 13  title_year              4935 non-null   float64\n",
      " 14  imdb_score              5043 non-null   float64\n",
      " 15  movie_facebook_likes    5043 non-null   int64  \n",
      "dtypes: float64(7), int64(2), object(7)\n",
      "memory usage: 630.5+ KB\n"
     ]
    }
   ],
   "source": [
    "data.info()"
   ]
  },
  {
   "cell_type": "markdown",
   "id": "4b8427e3",
   "metadata": {},
   "source": [
    "# Missing Values Treatment"
   ]
  },
  {
   "cell_type": "code",
   "execution_count": 10,
   "id": "56160d12",
   "metadata": {},
   "outputs": [
    {
     "data": {
      "text/plain": [
       "director_name             104\n",
       "num_critic_for_reviews     50\n",
       "duration                   15\n",
       "actor_2_name               13\n",
       "gross                     884\n",
       "genres                      0\n",
       "actor_1_name                7\n",
       "movie_title                 0\n",
       "num_voted_users             0\n",
       "actor_3_name               23\n",
       "num_user_for_reviews       21\n",
       "language                   12\n",
       "budget                    492\n",
       "title_year                108\n",
       "imdb_score                  0\n",
       "movie_facebook_likes        0\n",
       "dtype: int64"
      ]
     },
     "execution_count": 10,
     "metadata": {},
     "output_type": "execute_result"
    }
   ],
   "source": [
    "data.isnull().sum()"
   ]
  },
  {
   "cell_type": "code",
   "execution_count": 11,
   "id": "3657af60",
   "metadata": {},
   "outputs": [
    {
     "data": {
      "text/plain": [
       "director_name              2.06\n",
       "num_critic_for_reviews     0.99\n",
       "duration                   0.30\n",
       "actor_2_name               0.26\n",
       "gross                     17.53\n",
       "genres                     0.00\n",
       "actor_1_name               0.14\n",
       "movie_title                0.00\n",
       "num_voted_users            0.00\n",
       "actor_3_name               0.46\n",
       "num_user_for_reviews       0.42\n",
       "language                   0.24\n",
       "budget                     9.76\n",
       "title_year                 2.14\n",
       "imdb_score                 0.00\n",
       "movie_facebook_likes       0.00\n",
       "dtype: float64"
      ]
     },
     "execution_count": 11,
     "metadata": {},
     "output_type": "execute_result"
    }
   ],
   "source": [
    "round(100*(data.isnull().sum()/len(data.index)),2)"
   ]
  },
  {
   "cell_type": "code",
   "execution_count": 12,
   "id": "fa62d106",
   "metadata": {},
   "outputs": [],
   "source": [
    "# Observation: gross and budget have large number of missing values however being importnat columns, they cannot be dropped\n",
    "# Solution: drop the rows with NaNs in 'gross' or 'budget'\n",
    "\n",
    "data=data[~np.isnan(data['gross'])]\n",
    "data=data[~np.isnan(data['budget'])]"
   ]
  },
  {
   "cell_type": "code",
   "execution_count": 13,
   "id": "56153da6",
   "metadata": {},
   "outputs": [
    {
     "data": {
      "text/plain": [
       "director_name              0\n",
       "num_critic_for_reviews     1\n",
       "duration                   1\n",
       "actor_2_name               5\n",
       "gross                      0\n",
       "genres                     0\n",
       "actor_1_name               3\n",
       "movie_title                0\n",
       "num_voted_users            0\n",
       "actor_3_name              10\n",
       "num_user_for_reviews       0\n",
       "language                   3\n",
       "budget                     0\n",
       "title_year                 0\n",
       "imdb_score                 0\n",
       "movie_facebook_likes       0\n",
       "dtype: int64"
      ]
     },
     "execution_count": 13,
     "metadata": {},
     "output_type": "execute_result"
    }
   ],
   "source": [
    "data.isnull().sum()"
   ]
  },
  {
   "cell_type": "code",
   "execution_count": 14,
   "id": "69a0a563",
   "metadata": {},
   "outputs": [
    {
     "data": {
      "text/plain": [
       "director_name             0\n",
       "num_critic_for_reviews    1\n",
       "duration                  1\n",
       "actor_2_name              2\n",
       "gross                     0\n",
       "genres                    0\n",
       "actor_1_name              0\n",
       "movie_title               0\n",
       "num_voted_users           0\n",
       "actor_3_name              7\n",
       "num_user_for_reviews      0\n",
       "language                  3\n",
       "budget                    0\n",
       "title_year                0\n",
       "imdb_score                0\n",
       "movie_facebook_likes      0\n",
       "dtype: int64"
      ]
     },
     "execution_count": 14,
     "metadata": {},
     "output_type": "execute_result"
    }
   ],
   "source": [
    "#SInce all the entries are important, drop the rows with >2 missing values\n",
    "\n",
    "data=data[data.isnull().sum(axis=1) <=2]\n",
    "data.isnull().sum()"
   ]
  },
  {
   "cell_type": "code",
   "execution_count": 15,
   "id": "2803e5d7",
   "metadata": {},
   "outputs": [],
   "source": [
    "#imputing missing values\n",
    "\n",
    "#using mean for numerical columns\n",
    "data['num_critic_for_reviews'].fillna(data['num_critic_for_reviews'].mean(),inplace=True)\n",
    "data['duration'].fillna(data['duration'].mean(),inplace=True)\n",
    "\n",
    "\n",
    "#use unknown for missing actor names as they are not popular else, wont be missing\n",
    "data['actor_2_name'].fillna('Unknown Actor', inplace=True)\n",
    "data['actor_3_name'].fillna('Unknown Actor', inplace=True)\n",
    "\n",
    "#use mode for categorical data\n",
    "data['language'].fillna(data['language'].mode()[0], inplace=True)"
   ]
  },
  {
   "cell_type": "code",
   "execution_count": 16,
   "id": "0e75aa40",
   "metadata": {},
   "outputs": [
    {
     "data": {
      "text/plain": [
       "0"
      ]
     },
     "execution_count": 16,
     "metadata": {},
     "output_type": "execute_result"
    }
   ],
   "source": [
    "data.isnull().sum().sum()"
   ]
  },
  {
   "cell_type": "markdown",
   "id": "9a29308c",
   "metadata": {},
   "source": [
    "All missing values have been imputed :)"
   ]
  },
  {
   "cell_type": "markdown",
   "id": "214c0fea",
   "metadata": {},
   "source": [
    "# Feature Engineering"
   ]
  },
  {
   "cell_type": "markdown",
   "id": "aa7b6864",
   "metadata": {},
   "source": [
    "### Top 10 profitable movies"
   ]
  },
  {
   "cell_type": "code",
   "execution_count": 17,
   "id": "7d75a862",
   "metadata": {},
   "outputs": [],
   "source": [
    "#converting gross and budget to Million $ for readability\n",
    "\n",
    "data['gross']=data['gross']/1000000\n",
    "data['budget']=data['budget']/1000000"
   ]
  },
  {
   "cell_type": "code",
   "execution_count": 18,
   "id": "0e318383",
   "metadata": {},
   "outputs": [],
   "source": [
    "#creating a new column profit \n",
    "\n",
    "data['profit']=data['gross']-data['budget']"
   ]
  },
  {
   "cell_type": "code",
   "execution_count": 19,
   "id": "60e712a7",
   "metadata": {},
   "outputs": [
    {
     "data": {
      "text/html": [
       "<div>\n",
       "<style scoped>\n",
       "    .dataframe tbody tr th:only-of-type {\n",
       "        vertical-align: middle;\n",
       "    }\n",
       "\n",
       "    .dataframe tbody tr th {\n",
       "        vertical-align: top;\n",
       "    }\n",
       "\n",
       "    .dataframe thead th {\n",
       "        text-align: right;\n",
       "    }\n",
       "</style>\n",
       "<table border=\"1\" class=\"dataframe\">\n",
       "  <thead>\n",
       "    <tr style=\"text-align: right;\">\n",
       "      <th></th>\n",
       "      <th>profit</th>\n",
       "      <th>movie_title</th>\n",
       "    </tr>\n",
       "  </thead>\n",
       "  <tbody>\n",
       "    <tr>\n",
       "      <th>0</th>\n",
       "      <td>523.505847</td>\n",
       "      <td>Avatar</td>\n",
       "    </tr>\n",
       "    <tr>\n",
       "      <th>29</th>\n",
       "      <td>502.177271</td>\n",
       "      <td>Jurassic World</td>\n",
       "    </tr>\n",
       "    <tr>\n",
       "      <th>26</th>\n",
       "      <td>458.672302</td>\n",
       "      <td>Titanic</td>\n",
       "    </tr>\n",
       "    <tr>\n",
       "      <th>3024</th>\n",
       "      <td>449.935665</td>\n",
       "      <td>Star Wars: Episode IV - A New Hope</td>\n",
       "    </tr>\n",
       "    <tr>\n",
       "      <th>3080</th>\n",
       "      <td>424.449459</td>\n",
       "      <td>E.T. the Extra-Terrestrial</td>\n",
       "    </tr>\n",
       "    <tr>\n",
       "      <th>794</th>\n",
       "      <td>403.279547</td>\n",
       "      <td>The Avengers</td>\n",
       "    </tr>\n",
       "    <tr>\n",
       "      <th>17</th>\n",
       "      <td>403.279547</td>\n",
       "      <td>The Avengers</td>\n",
       "    </tr>\n",
       "    <tr>\n",
       "      <th>509</th>\n",
       "      <td>377.783777</td>\n",
       "      <td>The Lion King</td>\n",
       "    </tr>\n",
       "    <tr>\n",
       "      <th>240</th>\n",
       "      <td>359.544677</td>\n",
       "      <td>Star Wars: Episode I - The Phantom Menace</td>\n",
       "    </tr>\n",
       "    <tr>\n",
       "      <th>66</th>\n",
       "      <td>348.316061</td>\n",
       "      <td>The Dark Knight</td>\n",
       "    </tr>\n",
       "  </tbody>\n",
       "</table>\n",
       "</div>"
      ],
      "text/plain": [
       "          profit                                 movie_title\n",
       "0     523.505847                                     Avatar \n",
       "29    502.177271                             Jurassic World \n",
       "26    458.672302                                    Titanic \n",
       "3024  449.935665         Star Wars: Episode IV - A New Hope \n",
       "3080  424.449459                 E.T. the Extra-Terrestrial \n",
       "794   403.279547                               The Avengers \n",
       "17    403.279547                               The Avengers \n",
       "509   377.783777                              The Lion King \n",
       "240   359.544677  Star Wars: Episode I - The Phantom Menace \n",
       "66    348.316061                            The Dark Knight "
      ]
     },
     "execution_count": 19,
     "metadata": {},
     "output_type": "execute_result"
    }
   ],
   "source": [
    "#Finding top 10 most profitable movies\n",
    "\n",
    "data[['profit','movie_title']].sort_values(by='profit', ascending= False).head(10)"
   ]
  },
  {
   "cell_type": "code",
   "execution_count": 20,
   "id": "6cfec8e5",
   "metadata": {},
   "outputs": [
    {
     "name": "stdout",
     "output_type": "stream",
     "text": [
      "No.of rows before removing duplicates:  3888\n",
      "No.of rows after removing duplicates:  3853\n"
     ]
    }
   ],
   "source": [
    "#Observation: The data has duplicate values\n",
    "#Solution: Drop rows with Duplicate values\n",
    "\n",
    "print(\"No.of rows before removing duplicates: \", data.shape[0])\n",
    "data.drop_duplicates(subset=None, keep='first', inplace=True)\n",
    "print(\"No.of rows after removing duplicates: \", data.shape[0])\n",
    "\n"
   ]
  },
  {
   "cell_type": "code",
   "execution_count": 21,
   "id": "75dc40fc",
   "metadata": {},
   "outputs": [
    {
     "data": {
      "text/html": [
       "<div>\n",
       "<style scoped>\n",
       "    .dataframe tbody tr th:only-of-type {\n",
       "        vertical-align: middle;\n",
       "    }\n",
       "\n",
       "    .dataframe tbody tr th {\n",
       "        vertical-align: top;\n",
       "    }\n",
       "\n",
       "    .dataframe thead th {\n",
       "        text-align: right;\n",
       "    }\n",
       "</style>\n",
       "<table border=\"1\" class=\"dataframe\">\n",
       "  <thead>\n",
       "    <tr style=\"text-align: right;\">\n",
       "      <th></th>\n",
       "      <th>profit</th>\n",
       "      <th>movie_title</th>\n",
       "    </tr>\n",
       "  </thead>\n",
       "  <tbody>\n",
       "    <tr>\n",
       "      <th>0</th>\n",
       "      <td>523.505847</td>\n",
       "      <td>Avatar</td>\n",
       "    </tr>\n",
       "    <tr>\n",
       "      <th>29</th>\n",
       "      <td>502.177271</td>\n",
       "      <td>Jurassic World</td>\n",
       "    </tr>\n",
       "    <tr>\n",
       "      <th>26</th>\n",
       "      <td>458.672302</td>\n",
       "      <td>Titanic</td>\n",
       "    </tr>\n",
       "    <tr>\n",
       "      <th>3024</th>\n",
       "      <td>449.935665</td>\n",
       "      <td>Star Wars: Episode IV - A New Hope</td>\n",
       "    </tr>\n",
       "    <tr>\n",
       "      <th>3080</th>\n",
       "      <td>424.449459</td>\n",
       "      <td>E.T. the Extra-Terrestrial</td>\n",
       "    </tr>\n",
       "    <tr>\n",
       "      <th>17</th>\n",
       "      <td>403.279547</td>\n",
       "      <td>The Avengers</td>\n",
       "    </tr>\n",
       "    <tr>\n",
       "      <th>509</th>\n",
       "      <td>377.783777</td>\n",
       "      <td>The Lion King</td>\n",
       "    </tr>\n",
       "    <tr>\n",
       "      <th>240</th>\n",
       "      <td>359.544677</td>\n",
       "      <td>Star Wars: Episode I - The Phantom Menace</td>\n",
       "    </tr>\n",
       "    <tr>\n",
       "      <th>66</th>\n",
       "      <td>348.316061</td>\n",
       "      <td>The Dark Knight</td>\n",
       "    </tr>\n",
       "    <tr>\n",
       "      <th>439</th>\n",
       "      <td>329.999255</td>\n",
       "      <td>The Hunger Games</td>\n",
       "    </tr>\n",
       "  </tbody>\n",
       "</table>\n",
       "</div>"
      ],
      "text/plain": [
       "          profit                                 movie_title\n",
       "0     523.505847                                     Avatar \n",
       "29    502.177271                             Jurassic World \n",
       "26    458.672302                                    Titanic \n",
       "3024  449.935665         Star Wars: Episode IV - A New Hope \n",
       "3080  424.449459                 E.T. the Extra-Terrestrial \n",
       "17    403.279547                               The Avengers \n",
       "509   377.783777                              The Lion King \n",
       "240   359.544677  Star Wars: Episode I - The Phantom Menace \n",
       "66    348.316061                            The Dark Knight \n",
       "439   329.999255                           The Hunger Games "
      ]
     },
     "execution_count": 21,
     "metadata": {},
     "output_type": "execute_result"
    }
   ],
   "source": [
    "#Finding top 10 most profitable movies\n",
    "\n",
    "data[['profit','movie_title']].sort_values(by='profit', ascending= False).head(10)"
   ]
  },
  {
   "cell_type": "markdown",
   "id": "f0681db6",
   "metadata": {},
   "source": [
    "We have found the top 10 movies. Interestingly there are 2 movies from Star Wars franchise in Top 10"
   ]
  },
  {
   "cell_type": "markdown",
   "id": "b4305ef3",
   "metadata": {},
   "source": [
    "### Duration and Language Categories"
   ]
  },
  {
   "cell_type": "code",
   "execution_count": 25,
   "id": "1141334c",
   "metadata": {},
   "outputs": [
    {
     "data": {
      "text/plain": [
       "English       3673\n",
       "French          37\n",
       "Spanish         26\n",
       "Mandarin        14\n",
       "German          13\n",
       "Japanese        12\n",
       "Hindi           10\n",
       "Cantonese        8\n",
       "Italian          7\n",
       "Portuguese       5\n",
       "Korean           5\n",
       "Norwegian        4\n",
       "Dutch            3\n",
       "Persian          3\n",
       "Thai             3\n",
       "Hebrew           3\n",
       "Danish           3\n",
       "Aboriginal       2\n",
       "Dari             2\n",
       "Indonesian       2\n",
       "Russian          1\n",
       "Romanian         1\n",
       "Vietnamese       1\n",
       "Arabic           1\n",
       "Dzongkha         1\n",
       "Zulu             1\n",
       "None             1\n",
       "Aramaic          1\n",
       "Czech            1\n",
       "Telugu           1\n",
       "Icelandic        1\n",
       "Filipino         1\n",
       "Hungarian        1\n",
       "Maya             1\n",
       "Bosnian          1\n",
       "Mongolian        1\n",
       "Kazakh           1\n",
       "Swedish          1\n",
       "Name: language, dtype: int64"
      ]
     },
     "execution_count": 25,
     "metadata": {},
     "output_type": "execute_result"
    }
   ],
   "source": [
    "data['language'].value_counts()"
   ]
  },
  {
   "cell_type": "code",
   "execution_count": 26,
   "id": "b3b3afaa",
   "metadata": {},
   "outputs": [
    {
     "data": {
      "text/plain": [
       "English    3673\n",
       "Foreign     180\n",
       "Name: language, dtype: int64"
      ]
     },
     "execution_count": 26,
     "metadata": {},
     "output_type": "execute_result"
    }
   ],
   "source": [
    "#Observation: Non English movies do not exceed 200\n",
    "#Solution: Label all Non-English movies as Foreign\n",
    "\n",
    "def language(x):\n",
    "    if x==\"English\":\n",
    "        return 'English'\n",
    "    else:\n",
    "        return 'Foreign'\n",
    "    \n",
    "#Applying language function on the data     \n",
    "data['language']=data['language'].apply(language)\n",
    "\n",
    "data['language'].value_counts()"
   ]
  },
  {
   "cell_type": "code",
   "execution_count": 27,
   "id": "35921030",
   "metadata": {},
   "outputs": [
    {
     "data": {
      "text/plain": [
       "101.0    113\n",
       "100.0    109\n",
       "98.0     105\n",
       "95.0      97\n",
       "99.0      97\n",
       "        ... \n",
       "196.0      1\n",
       "63.0       1\n",
       "185.0      1\n",
       "219.0      1\n",
       "65.0       1\n",
       "Name: duration, Length: 157, dtype: int64"
      ]
     },
     "execution_count": 27,
     "metadata": {},
     "output_type": "execute_result"
    }
   ],
   "source": [
    "data['duration'].value_counts()"
   ]
  },
  {
   "cell_type": "code",
   "execution_count": 28,
   "id": "1e377d98",
   "metadata": {},
   "outputs": [
    {
     "data": {
      "text/plain": [
       "Short    2936\n",
       "Long      917\n",
       "Name: duration, dtype: int64"
      ]
     },
     "execution_count": 28,
     "metadata": {},
     "output_type": "execute_result"
    }
   ],
   "source": [
    "#Categorise the movies as long or short as its more informative than individual durations\n",
    "\n",
    "def duration(x):\n",
    "    if x<=120:\n",
    "        return 'Short'\n",
    "    else:\n",
    "        return 'Long'\n",
    "\n",
    "#applying value function to the movies\n",
    "data['duration']=data['duration'].apply(duration)\n",
    "\n",
    "data['duration'].value_counts()"
   ]
  },
  {
   "cell_type": "markdown",
   "id": "6c097e6b",
   "metadata": {},
   "source": [
    "### Top 4 movie Genres of each movie"
   ]
  },
  {
   "cell_type": "code",
   "execution_count": 30,
   "id": "19456144",
   "metadata": {},
   "outputs": [
    {
     "data": {
      "text/plain": [
       "Drama                                     153\n",
       "Comedy|Drama|Romance                      151\n",
       "Comedy|Drama                              147\n",
       "Comedy                                    145\n",
       "Comedy|Romance                            135\n",
       "                                         ... \n",
       "Action|Crime|Drama|Thriller|War             1\n",
       "Adventure|Comedy|Family|Musical             1\n",
       "Action|Adventure|Family|Fantasy|Sci-Fi      1\n",
       "Action|Drama|Mystery|Thriller|War           1\n",
       "Comedy|Crime|Horror                         1\n",
       "Name: genres, Length: 762, dtype: int64"
      ]
     },
     "execution_count": 30,
     "metadata": {},
     "output_type": "execute_result"
    }
   ],
   "source": [
    "data['genres'].value_counts()"
   ]
  },
  {
   "cell_type": "code",
   "execution_count": 40,
   "id": "99f7f4d4",
   "metadata": {},
   "outputs": [
    {
     "data": {
      "text/html": [
       "<div>\n",
       "<style scoped>\n",
       "    .dataframe tbody tr th:only-of-type {\n",
       "        vertical-align: middle;\n",
       "    }\n",
       "\n",
       "    .dataframe tbody tr th {\n",
       "        vertical-align: top;\n",
       "    }\n",
       "\n",
       "    .dataframe thead th {\n",
       "        text-align: right;\n",
       "    }\n",
       "</style>\n",
       "<table border=\"1\" class=\"dataframe\">\n",
       "  <thead>\n",
       "    <tr style=\"text-align: right;\">\n",
       "      <th></th>\n",
       "      <th>genres</th>\n",
       "      <th>Genre1</th>\n",
       "      <th>Genre2</th>\n",
       "      <th>Genre3</th>\n",
       "      <th>Genre4</th>\n",
       "    </tr>\n",
       "  </thead>\n",
       "  <tbody>\n",
       "    <tr>\n",
       "      <th>0</th>\n",
       "      <td>Action|Adventure|Fantasy|Sci-Fi</td>\n",
       "      <td>Action</td>\n",
       "      <td>Adventure</td>\n",
       "      <td>Fantasy</td>\n",
       "      <td>Action</td>\n",
       "    </tr>\n",
       "    <tr>\n",
       "      <th>1</th>\n",
       "      <td>Action|Adventure|Fantasy</td>\n",
       "      <td>Action</td>\n",
       "      <td>Adventure</td>\n",
       "      <td>Fantasy</td>\n",
       "      <td>Action</td>\n",
       "    </tr>\n",
       "    <tr>\n",
       "      <th>2</th>\n",
       "      <td>Action|Adventure|Thriller</td>\n",
       "      <td>Action</td>\n",
       "      <td>Adventure</td>\n",
       "      <td>Thriller</td>\n",
       "      <td>Action</td>\n",
       "    </tr>\n",
       "    <tr>\n",
       "      <th>3</th>\n",
       "      <td>Action|Thriller</td>\n",
       "      <td>Action</td>\n",
       "      <td>Thriller</td>\n",
       "      <td>Action</td>\n",
       "      <td>Action</td>\n",
       "    </tr>\n",
       "    <tr>\n",
       "      <th>5</th>\n",
       "      <td>Action|Adventure|Sci-Fi</td>\n",
       "      <td>Action</td>\n",
       "      <td>Adventure</td>\n",
       "      <td>Sci-Fi</td>\n",
       "      <td>Action</td>\n",
       "    </tr>\n",
       "  </tbody>\n",
       "</table>\n",
       "</div>"
      ],
      "text/plain": [
       "                            genres  Genre1     Genre2    Genre3  Genre4\n",
       "0  Action|Adventure|Fantasy|Sci-Fi  Action  Adventure   Fantasy  Action\n",
       "1         Action|Adventure|Fantasy  Action  Adventure   Fantasy  Action\n",
       "2        Action|Adventure|Thriller  Action  Adventure  Thriller  Action\n",
       "3                  Action|Thriller  Action   Thriller    Action  Action\n",
       "5          Action|Adventure|Sci-Fi  Action  Adventure    Sci-Fi  Action"
      ]
     },
     "execution_count": 40,
     "metadata": {},
     "output_type": "execute_result"
    }
   ],
   "source": [
    "#Observation: Many movies have multiple genres, some have 1\n",
    "#Solution: Take top four genres of movies, if less than 4 genres use genre[0] as missing value\n",
    "data['Moviegenres'] = data['genres'].str.split('|')\n",
    "data['Genre1'] = data['Moviegenres'].apply(lambda x: x[0])\n",
    "data['Genre2'] = data['Moviegenres'].apply(lambda x: x[1] if len(x)>1 else x[0])\n",
    "data['Genre3'] = data['Moviegenres'].apply(lambda x: x[2] if len(x)>2 else x[0])\n",
    "data['Genre4'] = data['Moviegenres'].apply(lambda x: x[0] if len(x)>3 else x[0])\n",
    "\n",
    "data[['genres', 'Genre1', 'Genre2', 'Genre3', 'Genre4']].head()"
   ]
  },
  {
   "cell_type": "markdown",
   "id": "2be152b7",
   "metadata": {},
   "source": [
    "### Social Media Popularity"
   ]
  },
  {
   "cell_type": "markdown",
   "id": "41a29379",
   "metadata": {},
   "source": [
    "Formula used = (No.of people Reviewed for movie/ No.of People Voted for the movie)* No. of Facebook Likes"
   ]
  },
  {
   "cell_type": "code",
   "execution_count": 49,
   "id": "3cf94123",
   "metadata": {},
   "outputs": [],
   "source": [
    "data['Social_Media_Popularity'] =((data['num_user_for_reviews']/data['num_voted_users'])*(data['movie_facebook_likes']))/1000000"
   ]
  },
  {
   "cell_type": "code",
   "execution_count": 54,
   "id": "5619a2a3",
   "metadata": {},
   "outputs": [
    {
     "name": "stdout",
     "output_type": "stream",
     "text": [
      "    index                          movie_title  Social_Media_Popularity\n",
      "0      10  Batman v Superman: Dawn of Justice                  0.001600\n",
      "1     150                        Ghostbusters                  0.001076\n",
      "2    1582                        Ghostbusters                  0.001076\n",
      "3      96                        Interstellar                  0.001025\n",
      "4    3015               10 Days in a Madhouse                  0.000828\n",
      "5     945                      Into the Woods                  0.000693\n",
      "6      73                       Suicide Squad                  0.000653\n",
      "7    1190                Fifty Shades of Grey                  0.000624\n",
      "8     108                            Warcraft                  0.000623\n",
      "9      92        Independence Day: Resurgence                  0.000599\n",
      "10    179                        The Revenant                  0.000556\n"
     ]
    }
   ],
   "source": [
    "#top 10 most popular movies\n",
    "x=data[['movie_title', 'Social_Media_Popularity']].sort_values(by=\"Social_Media_Popularity\", ascending=False).head(11).reset_index()\n",
    "print(x)"
   ]
  },
  {
   "cell_type": "code",
   "execution_count": 55,
   "id": "ed678695",
   "metadata": {},
   "outputs": [
    {
     "data": {
      "image/png": "[encoded data removed]",
      "text/plain": [
       "<Figure size 1152x360 with 1 Axes>"
      ]
     },
     "metadata": {},
     "output_type": "display_data"
    }
   ],
   "source": [
    "sns.barplot(x['movie_title'], x['Social_Media_Popularity'], palette ='magma')\n",
    "plt.title('Top 10 Most Popular Movies on Social Media', fontsize =20)\n",
    "plt.xticks(rotation =90, fontsize =14)\n",
    "plt.xlabel(' ')\n",
    "plt.show()"
   ]
  },
  {
   "cell_type": "code",
   "execution_count": 57,
   "id": "a87245d1",
   "metadata": {},
   "outputs": [],
   "source": [
    "sObservation: Ghostbusters was still repeated. Both entries have same social media popularity"
   ]
  },
  {
   "cell_type": "markdown",
   "id": "5aa3d857",
   "metadata": {},
   "source": [
    "### Most Bankable Genres"
   ]
  },
  {
   "cell_type": "code",
   "execution_count": 74,
   "id": "c3bf1228",
   "metadata": {
    "scrolled": true
   },
   "outputs": [
    {
     "data": {
      "text/html": [
       "<style type=\"text/css\">\n",
       "#T_2d9e2_row0_col0, #T_2d9e2_row8_col1, #T_2d9e2_row11_col2 {\n",
       "  background-color: #fc7f00;\n",
       "  color: #f1f1f1;\n",
       "}\n",
       "#T_2d9e2_row0_col1 {\n",
       "  background-color: #ffbb00;\n",
       "  color: #000000;\n",
       "}\n",
       "#T_2d9e2_row0_col2, #T_2d9e2_row1_col2, #T_2d9e2_row4_col2, #T_2d9e2_row5_col2, #T_2d9e2_row6_col2, #T_2d9e2_row7_col2, #T_2d9e2_row9_col2, #T_2d9e2_row10_col2, #T_2d9e2_row15_col0, #T_2d9e2_row15_col1, #T_2d9e2_row15_col2 {\n",
       "  background-color: #e4ff7a;\n",
       "  color: #000000;\n",
       "}\n",
       "#T_2d9e2_row1_col0, #T_2d9e2_row8_col0 {\n",
       "  background-color: #ffb500;\n",
       "  color: #000000;\n",
       "}\n",
       "#T_2d9e2_row1_col1 {\n",
       "  background-color: #ffb300;\n",
       "  color: #000000;\n",
       "}\n",
       "#T_2d9e2_row2_col0 {\n",
       "  background-color: #ffc002;\n",
       "  color: #000000;\n",
       "}\n",
       "#T_2d9e2_row2_col1 {\n",
       "  background-color: #ffb100;\n",
       "  color: #000000;\n",
       "}\n",
       "#T_2d9e2_row2_col2, #T_2d9e2_row13_col2 {\n",
       "  background-color: #e7fd71;\n",
       "  color: #000000;\n",
       "}\n",
       "#T_2d9e2_row3_col0 {\n",
       "  background-color: #ffd911;\n",
       "  color: #000000;\n",
       "}\n",
       "#T_2d9e2_row3_col1 {\n",
       "  background-color: #fee91d;\n",
       "  color: #000000;\n",
       "}\n",
       "#T_2d9e2_row3_col2, #T_2d9e2_row12_col2, #T_2d9e2_row14_col2 {\n",
       "  background-color: #e4ff78;\n",
       "  color: #000000;\n",
       "}\n",
       "#T_2d9e2_row4_col0 {\n",
       "  background-color: #ffc907;\n",
       "  color: #000000;\n",
       "}\n",
       "#T_2d9e2_row4_col1 {\n",
       "  background-color: #ffe81a;\n",
       "  color: #000000;\n",
       "}\n",
       "#T_2d9e2_row5_col0, #T_2d9e2_row11_col0 {\n",
       "  background-color: #fee91e;\n",
       "  color: #000000;\n",
       "}\n",
       "#T_2d9e2_row5_col1 {\n",
       "  background-color: #fbeb27;\n",
       "  color: #000000;\n",
       "}\n",
       "#T_2d9e2_row6_col0 {\n",
       "  background-color: #f5f13e;\n",
       "  color: #000000;\n",
       "}\n",
       "#T_2d9e2_row6_col1 {\n",
       "  background-color: #eef757;\n",
       "  color: #000000;\n",
       "}\n",
       "#T_2d9e2_row7_col0 {\n",
       "  background-color: #fe9100;\n",
       "  color: #000000;\n",
       "}\n",
       "#T_2d9e2_row7_col1 {\n",
       "  background-color: #faec2c;\n",
       "  color: #000000;\n",
       "}\n",
       "#T_2d9e2_row8_col2 {\n",
       "  background-color: #ff9f00;\n",
       "  color: #000000;\n",
       "}\n",
       "#T_2d9e2_row9_col0 {\n",
       "  background-color: #f2f348;\n",
       "  color: #000000;\n",
       "}\n",
       "#T_2d9e2_row9_col1 {\n",
       "  background-color: #ffe418;\n",
       "  color: #000000;\n",
       "}\n",
       "#T_2d9e2_row10_col0 {\n",
       "  background-color: #ffe518;\n",
       "  color: #000000;\n",
       "}\n",
       "#T_2d9e2_row10_col1 {\n",
       "  background-color: #fdea21;\n",
       "  color: #000000;\n",
       "}\n",
       "#T_2d9e2_row11_col1 {\n",
       "  background-color: #ffaf00;\n",
       "  color: #000000;\n",
       "}\n",
       "#T_2d9e2_row12_col0 {\n",
       "  background-color: #ffe216;\n",
       "  color: #000000;\n",
       "}\n",
       "#T_2d9e2_row12_col1 {\n",
       "  background-color: #ffdb12;\n",
       "  color: #000000;\n",
       "}\n",
       "#T_2d9e2_row13_col0 {\n",
       "  background-color: #edf75a;\n",
       "  color: #000000;\n",
       "}\n",
       "#T_2d9e2_row13_col1 {\n",
       "  background-color: #f3f245;\n",
       "  color: #000000;\n",
       "}\n",
       "#T_2d9e2_row14_col0 {\n",
       "  background-color: #eff653;\n",
       "  color: #000000;\n",
       "}\n",
       "#T_2d9e2_row14_col1 {\n",
       "  background-color: #f7ef38;\n",
       "  color: #000000;\n",
       "}\n",
       "#T_2d9e2_row16_col0 {\n",
       "  background-color: #eafa66;\n",
       "  color: #000000;\n",
       "}\n",
       "#T_2d9e2_row16_col1 {\n",
       "  background-color: #eff551;\n",
       "  color: #000000;\n",
       "}\n",
       "#T_2d9e2_row16_col2 {\n",
       "  background-color: #edf759;\n",
       "  color: #000000;\n",
       "}\n",
       "</style>\n",
       "<table id=\"T_2d9e2\">\n",
       "  <thead>\n",
       "    <tr>\n",
       "      <th class=\"blank level0\" >&nbsp;</th>\n",
       "      <th id=\"T_2d9e2_level0_col0\" class=\"col_heading level0 col0\" colspan=\"3\">gross</th>\n",
       "    </tr>\n",
       "    <tr>\n",
       "      <th class=\"blank level1\" >&nbsp;</th>\n",
       "      <th id=\"T_2d9e2_level1_col0\" class=\"col_heading level1 col0\" >max</th>\n",
       "      <th id=\"T_2d9e2_level1_col1\" class=\"col_heading level1 col1\" >mean</th>\n",
       "      <th id=\"T_2d9e2_level1_col2\" class=\"col_heading level1 col2\" >min</th>\n",
       "    </tr>\n",
       "    <tr>\n",
       "      <th class=\"index_name level0\" >Genre1</th>\n",
       "      <th class=\"blank col0\" >&nbsp;</th>\n",
       "      <th class=\"blank col1\" >&nbsp;</th>\n",
       "      <th class=\"blank col2\" >&nbsp;</th>\n",
       "    </tr>\n",
       "  </thead>\n",
       "  <tbody>\n",
       "    <tr>\n",
       "      <th id=\"T_2d9e2_level0_row0\" class=\"row_heading level0 row0\" >Action</th>\n",
       "      <td id=\"T_2d9e2_row0_col0\" class=\"data row0 col0\" >760.505847</td>\n",
       "      <td id=\"T_2d9e2_row0_col1\" class=\"data row0 col1\" >76.584686</td>\n",
       "      <td id=\"T_2d9e2_row0_col2\" class=\"data row0 col2\" >0.000162</td>\n",
       "    </tr>\n",
       "    <tr>\n",
       "      <th id=\"T_2d9e2_level0_row1\" class=\"row_heading level0 row1\" >Adventure</th>\n",
       "      <td id=\"T_2d9e2_row1_col0\" class=\"data row1 col0\" >436.471036</td>\n",
       "      <td id=\"T_2d9e2_row1_col1\" class=\"data row1 col1\" >87.827145</td>\n",
       "      <td id=\"T_2d9e2_row1_col2\" class=\"data row1 col2\" >0.004091</td>\n",
       "    </tr>\n",
       "    <tr>\n",
       "      <th id=\"T_2d9e2_level0_row2\" class=\"row_heading level0 row2\" >Animation</th>\n",
       "      <td id=\"T_2d9e2_row2_col0\" class=\"data row2 col0\" >368.049635</td>\n",
       "      <td id=\"T_2d9e2_row2_col1\" class=\"data row2 col1\" >89.873480</td>\n",
       "      <td id=\"T_2d9e2_row2_col2\" class=\"data row2 col2\" >0.071442</td>\n",
       "    </tr>\n",
       "    <tr>\n",
       "      <th id=\"T_2d9e2_level0_row3\" class=\"row_heading level0 row3\" >Biography</th>\n",
       "      <td id=\"T_2d9e2_row3_col0\" class=\"data row3 col0\" >255.950375</td>\n",
       "      <td id=\"T_2d9e2_row3_col1\" class=\"data row3 col1\" >36.431983</td>\n",
       "      <td id=\"T_2d9e2_row3_col2\" class=\"data row3 col2\" >0.012836</td>\n",
       "    </tr>\n",
       "    <tr>\n",
       "      <th id=\"T_2d9e2_level0_row4\" class=\"row_heading level0 row4\" >Comedy</th>\n",
       "      <td id=\"T_2d9e2_row4_col0\" class=\"data row4 col0\" >329.691196</td>\n",
       "      <td id=\"T_2d9e2_row4_col1\" class=\"data row4 col1\" >37.611935</td>\n",
       "      <td id=\"T_2d9e2_row4_col2\" class=\"data row4 col2\" >0.000703</td>\n",
       "    </tr>\n",
       "    <tr>\n",
       "      <th id=\"T_2d9e2_level0_row5\" class=\"row_heading level0 row5\" >Crime</th>\n",
       "      <td id=\"T_2d9e2_row5_col0\" class=\"data row5 col0\" >183.405771</td>\n",
       "      <td id=\"T_2d9e2_row5_col1\" class=\"data row5 col1\" >32.223226</td>\n",
       "      <td id=\"T_2d9e2_row5_col2\" class=\"data row5 col2\" >0.001111</td>\n",
       "    </tr>\n",
       "    <tr>\n",
       "      <th id=\"T_2d9e2_level0_row6\" class=\"row_heading level0 row6\" >Documentary</th>\n",
       "      <td id=\"T_2d9e2_row6_col0\" class=\"data row6 col0\" >119.078393</td>\n",
       "      <td id=\"T_2d9e2_row6_col1\" class=\"data row6 col1\" >13.704278</td>\n",
       "      <td id=\"T_2d9e2_row6_col2\" class=\"data row6 col2\" >0.005858</td>\n",
       "    </tr>\n",
       "    <tr>\n",
       "      <th id=\"T_2d9e2_level0_row7\" class=\"row_heading level0 row7\" >Drama</th>\n",
       "      <td id=\"T_2d9e2_row7_col0\" class=\"data row7 col0\" >658.672302</td>\n",
       "      <td id=\"T_2d9e2_row7_col1\" class=\"data row7 col1\" >30.778967</td>\n",
       "      <td id=\"T_2d9e2_row7_col2\" class=\"data row7 col2\" >0.002580</td>\n",
       "    </tr>\n",
       "    <tr>\n",
       "      <th id=\"T_2d9e2_level0_row8\" class=\"row_heading level0 row8\" >Family</th>\n",
       "      <td id=\"T_2d9e2_row8_col0\" class=\"data row8 col0\" >434.949459</td>\n",
       "      <td id=\"T_2d9e2_row8_col1\" class=\"data row8 col1\" >149.160478</td>\n",
       "      <td id=\"T_2d9e2_row8_col2\" class=\"data row8 col2\" >2.119994</td>\n",
       "    </tr>\n",
       "    <tr>\n",
       "      <th id=\"T_2d9e2_level0_row9\" class=\"row_heading level0 row9\" >Fantasy</th>\n",
       "      <td id=\"T_2d9e2_row9_col0\" class=\"data row9 col0\" >100.614858</td>\n",
       "      <td id=\"T_2d9e2_row9_col1\" class=\"data row9 col1\" >40.483059</td>\n",
       "      <td id=\"T_2d9e2_row9_col2\" class=\"data row9 col2\" >0.003478</td>\n",
       "    </tr>\n",
       "    <tr>\n",
       "      <th id=\"T_2d9e2_level0_row10\" class=\"row_heading level0 row10\" >Horror</th>\n",
       "      <td id=\"T_2d9e2_row10_col0\" class=\"data row10 col0\" >204.565000</td>\n",
       "      <td id=\"T_2d9e2_row10_col1\" class=\"data row10 col1\" >34.737117</td>\n",
       "      <td id=\"T_2d9e2_row10_col2\" class=\"data row10 col2\" >0.005725</td>\n",
       "    </tr>\n",
       "    <tr>\n",
       "      <th id=\"T_2d9e2_level0_row11\" class=\"row_heading level0 row11\" >Musical</th>\n",
       "      <td id=\"T_2d9e2_row11_col0\" class=\"data row11 col0\" >181.360000</td>\n",
       "      <td id=\"T_2d9e2_row11_col1\" class=\"data row11 col1\" >92.084000</td>\n",
       "      <td id=\"T_2d9e2_row11_col2\" class=\"data row11 col2\" >2.808000</td>\n",
       "    </tr>\n",
       "    <tr>\n",
       "      <th id=\"T_2d9e2_level0_row12\" class=\"row_heading level0 row12\" >Mystery</th>\n",
       "      <td id=\"T_2d9e2_row12_col0\" class=\"data row12 col0\" >217.536138</td>\n",
       "      <td id=\"T_2d9e2_row12_col1\" class=\"data row12 col1\" >48.822296</td>\n",
       "      <td id=\"T_2d9e2_row12_col2\" class=\"data row12 col2\" >0.016066</td>\n",
       "    </tr>\n",
       "    <tr>\n",
       "      <th id=\"T_2d9e2_level0_row13\" class=\"row_heading level0 row13\" >Romance</th>\n",
       "      <td id=\"T_2d9e2_row13_col0\" class=\"data row13 col0\" >62.453315</td>\n",
       "      <td id=\"T_2d9e2_row13_col1\" class=\"data row13 col1\" >20.886339</td>\n",
       "      <td id=\"T_2d9e2_row13_col2\" class=\"data row13 col2\" >0.076382</td>\n",
       "    </tr>\n",
       "    <tr>\n",
       "      <th id=\"T_2d9e2_level0_row14\" class=\"row_heading level0 row14\" >Sci-Fi</th>\n",
       "      <td id=\"T_2d9e2_row14_col0\" class=\"data row14 col0\" >79.568000</td>\n",
       "      <td id=\"T_2d9e2_row14_col1\" class=\"data row14 col1\" >26.071841</td>\n",
       "      <td id=\"T_2d9e2_row14_col2\" class=\"data row14 col2\" >0.018195</td>\n",
       "    </tr>\n",
       "    <tr>\n",
       "      <th id=\"T_2d9e2_level0_row15\" class=\"row_heading level0 row15\" >Thriller</th>\n",
       "      <td id=\"T_2d9e2_row15_col0\" class=\"data row15 col0\" >0.070071</td>\n",
       "      <td id=\"T_2d9e2_row15_col1\" class=\"data row15 col1\" >0.040513</td>\n",
       "      <td id=\"T_2d9e2_row15_col2\" class=\"data row15 col2\" >0.002468</td>\n",
       "    </tr>\n",
       "    <tr>\n",
       "      <th id=\"T_2d9e2_level0_row16\" class=\"row_heading level0 row16\" >Western</th>\n",
       "      <td id=\"T_2d9e2_row16_col0\" class=\"data row16 col0\" >41.400000</td>\n",
       "      <td id=\"T_2d9e2_row16_col1\" class=\"data row16 col1\" >15.914589</td>\n",
       "      <td id=\"T_2d9e2_row16_col2\" class=\"data row16 col2\" >0.243768</td>\n",
       "    </tr>\n",
       "  </tbody>\n",
       "</table>\n"
      ],
      "text/plain": [
       "<pandas.io.formats.style.Styler at 0x293f98ac970>"
      ]
     },
     "metadata": {},
     "output_type": "display_data"
    },
    {
     "data": {
      "image/png": "[encoded data removed]",
      "text/plain": [
       "<Figure size 1152x360 with 1 Axes>"
      ]
     },
     "metadata": {},
     "output_type": "display_data"
    }
   ],
   "source": [
    "#Comparing Genres with Gross\n",
    "\n",
    "#Group genres and get min, max,avg of movies by genre\n",
    "display(data[['Genre1', 'gross']].groupby(['Genre1']).agg(['max','mean', 'min']).style.background_gradient(cmap= 'Wistia'))\n",
    " \n",
    "#Lineplot                                                                                                        \n",
    "data[['Genre1', 'gross']].groupby(['Genre1']).agg(['max','mean', 'min']).plot(kind=\"line\", color =['red','black','blue'])\n",
    "plt.title(\"Most Bankable Genre\", fontsize=20)\n",
    "plt.xticks(np.arange(17),['Comedy','Action', 'Drama', 'Adventure', 'Crime', 'Biography', 'Horror','Animation','Documentary','Fantasy','Mystery','Sci-Fi','Romance','Family','Western','Thriller','Musical'], rotation=90, fontsize=15)\n",
    "plt.show()"
   ]
  },
  {
   "cell_type": "code",
   "execution_count": 75,
   "id": "6eb10fba",
   "metadata": {},
   "outputs": [],
   "source": [
    "#Observations: Action an Drama have impressive max gross, their avg are also impressive\n",
    "# Family, Musical have highest min gross, their avg gross are also impressive."
   ]
  },
  {
   "cell_type": "code",
   "execution_count": 68,
   "id": "fb12b7b0",
   "metadata": {},
   "outputs": [
    {
     "data": {
      "text/plain": [
       "Comedy         1029\n",
       "Action          962\n",
       "Drama           693\n",
       "Adventure       375\n",
       "Crime           258\n",
       "Biography       207\n",
       "Horror          160\n",
       "Animation        46\n",
       "Documentary      40\n",
       "Fantasy          37\n",
       "Mystery          24\n",
       "Sci-Fi            8\n",
       "Romance           3\n",
       "Family            3\n",
       "Western           3\n",
       "Thriller          3\n",
       "Musical           2\n",
       "Name: Genre1, dtype: int64"
      ]
     },
     "execution_count": 68,
     "metadata": {},
     "output_type": "execute_result"
    }
   ],
   "source": [
    "data['Genre1'].value_counts()"
   ]
  },
  {
   "cell_type": "markdown",
   "id": "39bd2181",
   "metadata": {},
   "source": [
    "### The most Profitable Movie from Each Genre"
   ]
  },
  {
   "cell_type": "code",
   "execution_count": null,
   "id": "92f67326",
   "metadata": {},
   "outputs": [],
   "source": [
    "display(data.loc[data.groupby(data['Genre1'])])"
   ]
  }
 ],
 "metadata": {
  "kernelspec": {
   "display_name": "Python 3 (ipykernel)",
   "language": "python",
   "name": "python3"
  },
  "language_info": {
   "codemirror_mode": {
    "name": "ipython",
    "version": 3
   },
   "file_extension": ".py",
   "mimetype": "text/x-python",
   "name": "python",
   "nbconvert_exporter": "python",
   "pygments_lexer": "ipython3",
   "version": "3.9.12"
  }
 },
 "nbformat": 4,
 "nbformat_minor": 5
}
